{
 "cells": [
  {
   "cell_type": "code",
   "execution_count": null,
   "id": "19e7838b",
   "metadata": {},
   "outputs": [],
   "source": [
    "# OOP : Object Oriented Programming"
   ]
  },
  {
   "cell_type": "code",
   "execution_count": 2,
   "id": "ac941945",
   "metadata": {},
   "outputs": [
    {
     "name": "stdout",
     "output_type": "stream",
     "text": [
      "<class 'list'>\n"
     ]
    }
   ],
   "source": [
    "lst = [1,2,3]\n",
    "print(type(lst))"
   ]
  },
  {
   "cell_type": "code",
   "execution_count": 3,
   "id": "aab622e6",
   "metadata": {},
   "outputs": [
    {
     "data": {
      "text/plain": [
       "12345"
      ]
     },
     "execution_count": 3,
     "metadata": {},
     "output_type": "execute_result"
    }
   ],
   "source": [
    "# OOP : Object Oriented Programming\n",
    "\n",
    "class ClassName:\n",
    "    i = 12345\n",
    "\n",
    "x = ClassName()\n",
    "x.i"
   ]
  },
  {
   "cell_type": "code",
   "execution_count": 4,
   "id": "c2817334",
   "metadata": {},
   "outputs": [
    {
     "name": "stdout",
     "output_type": "stream",
     "text": [
      "10 + 10 j\n"
     ]
    }
   ],
   "source": [
    "class Complex:   # ClassName : Complex\n",
    "    def __init__(self,real,img):     # Constructor Method\n",
    "        self.r = real                # Attribute\n",
    "        self.i = img                 # Attribute\n",
    "\n",
    "x = Complex(10,10)   # x is an object of class Complex\n",
    "x.r   # Calling Attribute using Dot Operator with the help of Object x\n",
    "x.i   # Calling Attribute using Dot Operator with the help of Object x\n",
    "print(x.r,'+',x.i,'j')"
   ]
  },
  {
   "cell_type": "code",
   "execution_count": 13,
   "id": "a5038930",
   "metadata": {},
   "outputs": [
    {
     "data": {
      "text/plain": [
       "300"
      ]
     },
     "execution_count": 13,
     "metadata": {},
     "output_type": "execute_result"
    }
   ],
   "source": [
    "class Addition:\n",
    "    def __init__(self):\n",
    "        self.num1 = 100\n",
    "        self.num2 = 200\n",
    "\n",
    "    def sum(self):\n",
    "        num3 = self.num1 + self.num2\n",
    "        return num3\n",
    "\n",
    "a = Addition()\n",
    "a.sum()  # Output: 300"
   ]
  },
  {
   "cell_type": "code",
   "execution_count": null,
   "id": "68790ec7",
   "metadata": {},
   "outputs": [],
   "source": [
    "''' \n",
    "balance = 10000\n",
    "withdraw = user\n",
    "threshold = 2000\n",
    "\n",
    "'''"
   ]
  },
  {
   "cell_type": "code",
   "execution_count": 1,
   "id": "ee9b749d",
   "metadata": {},
   "outputs": [
    {
     "name": "stdout",
     "output_type": "stream",
     "text": [
      "New Balance is 4000.0\n"
     ]
    }
   ],
   "source": [
    "class Bank:\n",
    "    def __init__(self):\n",
    "        self.balance = 10000\n",
    "        self.threshold = 2000\n",
    "\n",
    "    def trans(self):\n",
    "        withdraw_amount = float(input('Enter the withdraw amount: '))\n",
    "        if withdraw_amount > self.balance:\n",
    "            print('Insufficient Balance')\n",
    "        else:\n",
    "            new_balance = self.balance - withdraw_amount\n",
    "            if new_balance >= self.threshold:\n",
    "                print('New Balance is', new_balance)\n",
    "            else:\n",
    "                print('Check Your Transaction, Once Again')\n",
    "\n",
    "T = Bank()\n",
    "T.trans()\n"
   ]
  },
  {
   "cell_type": "code",
   "execution_count": 6,
   "id": "71a29822",
   "metadata": {},
   "outputs": [
    {
     "name": "stdout",
     "output_type": "stream",
     "text": [
      "Tesla Model S is starting...\n",
      "Tesla Model S is carging with 10000 KWh battery.\n",
      "Tesla Model S is stopping...\n",
      "Honda CRV is starting...\n",
      "Honda CRV is mileage with 30 Km/l fuel .\n",
      "Honda CRV is stopping...\n"
     ]
    }
   ],
   "source": [
    "# Concept of INHERITANCE\n",
    "# Parent class\n",
    "class Car:\n",
    "    def __init__(self,brand,model):\n",
    "        self.brand = brand\n",
    "        self.model = model\n",
    "    \n",
    "    def start(self):\n",
    "        print(f\"{self.brand} {self.model} is starting...\")\n",
    "\n",
    "    def stop(self):\n",
    "        print(f\"{self.brand} {self.model} is stopping...\")\n",
    "\n",
    "# Child class\n",
    "class ElectricCar(Car):\n",
    "    def __init__(self,brand,model,battery_capacity):\n",
    "        super().__init__(brand,model) # Inherit barnd and model\n",
    "        self.battery_capacity = battery_capacity\n",
    "\n",
    "    def charge(self):\n",
    "        print(f\"{self.brand} {self.model} is carging with {self.battery_capacity} KWh battery.\")\n",
    "\n",
    "# Create an object of ElectricCar\n",
    "tesla = ElectricCar(\"Tesla\",\"Model S\",10000)\n",
    "tesla.start()\n",
    "tesla.charge()\n",
    "tesla.stop()\n",
    "\n",
    "# Child class\n",
    "class PetrolCar(Car):\n",
    "    def __init__(self,brand,model,mileage):\n",
    "        super().__init__(brand,model) # Inherit barnd and model\n",
    "        self.mileage = mileage\n",
    "\n",
    "    def Detail(self):\n",
    "        print(f\"{self.brand} {self.model} is mileage with {self.mileage} Km/l fuel .\")\n",
    "\n",
    "honda = PetrolCar(\"Honda\",\"CRV\",30)\n",
    "honda.start()\n",
    "honda.Detail()\n",
    "honda.stop()\n",
    "\n"
   ]
  },
  {
   "cell_type": "code",
   "execution_count": null,
   "id": "f7d19bf5",
   "metadata": {},
   "outputs": [],
   "source": []
  },
  {
   "cell_type": "code",
   "execution_count": 1,
   "id": "a870547a",
   "metadata": {},
   "outputs": [
    {
     "name": "stdout",
     "output_type": "stream",
     "text": [
      " Name: Aniket Chaudhari\n",
      " Age: 25\n",
      " Sex: Male\n",
      "Mobile number: 8934590900\n",
      " Name: Parag Khadke\n",
      " Age: 31\n",
      " Sex: Male\n",
      "Mobile number: 9900980989\n"
     ]
    }
   ],
   "source": [
    "class Institution:\n",
    "    def __init__(self,first_name,last_name,age,sex,mobile_number):\n",
    "        self.first_name = first_name\n",
    "        self.last_name = last_name\n",
    "        self.age = age\n",
    "        self.sex = sex\n",
    "        self.mobile_number = mobile_number\n",
    "\n",
    "    def details(self):\n",
    "        print(f\" Name: {self.first_name} {self.last_name}\")\n",
    "        print(f\" Age: {self.age}\")\n",
    "        print(f\" Sex: {self.sex}\")\n",
    "        print(f\"Mobile number: {self.mobile_number}\")\n",
    "\n",
    "class students(Institution):\n",
    "    def __init__(self, first_name, last_name, age, sex, mobile_number,Division):\n",
    "        super().__init__(first_name, last_name, age, sex, mobile_number)\n",
    "        self.Division = Division\n",
    "\n",
    "class faculty(Institution):\n",
    "    def __init__(self, first_name, last_name, age, sex, mobile_number,experience):\n",
    "        super().__init__(first_name, last_name, age, sex, mobile_number)\n",
    "        self.experience = experience\n",
    "\n",
    "X = students('Aniket','Chaudhari',25,'Male', 8934590900,'Data-Engineer')\n",
    "Y = faculty('Parag','Khadke',31,'Male',9900980989,9)\n",
    "X.details()\n",
    "Y.details()"
   ]
  },
  {
   "cell_type": "code",
   "execution_count": null,
   "id": "b43510af",
   "metadata": {},
   "outputs": [],
   "source": [
    "# Concept of Polymorphism\n",
    "\n",
    "# Parent Class\n",
    "class Car:\n",
    "    # Function\n",
    "    def start_engine(self):\n",
    "        print(\"Starting engine...\")\n",
    "\n",
    "# Child Class\n",
    "class ElectricCar(Car):\n",
    "    def start_engine(self):\n",
    "        print(\"Starting silent electric engine...\")\n",
    "\n",
    "# Child Class\n",
    "class PetrolCar(Car):\n",
    "    def start_engine(self):\n",
    "        print(\"Starting petrol engine with sound...\")"
   ]
  },
  {
   "cell_type": "code",
   "execution_count": 4,
   "id": "8554f071",
   "metadata": {},
   "outputs": [],
   "source": [
    "object1 = Car() # Object is defined with Parent Class\n",
    "object2 = ElectricCar() # Object is defined with Chind Class\n",
    "object3 = PetrolCar()   # Object is defined with Chind Class"
   ]
  },
  {
   "cell_type": "code",
   "execution_count": 5,
   "id": "43e98300",
   "metadata": {},
   "outputs": [
    {
     "name": "stdout",
     "output_type": "stream",
     "text": [
      "Starting engine...\n"
     ]
    }
   ],
   "source": [
    "object1.start_engine()"
   ]
  },
  {
   "cell_type": "code",
   "execution_count": 6,
   "id": "93943d02",
   "metadata": {},
   "outputs": [
    {
     "name": "stdout",
     "output_type": "stream",
     "text": [
      "Starting silent electric engine...\n"
     ]
    }
   ],
   "source": [
    "object2.start_engine()"
   ]
  },
  {
   "cell_type": "code",
   "execution_count": 7,
   "id": "b9488643",
   "metadata": {},
   "outputs": [
    {
     "name": "stdout",
     "output_type": "stream",
     "text": [
      "Starting petrol engine with sound...\n"
     ]
    }
   ],
   "source": [
    "object3.start_engine()"
   ]
  },
  {
   "cell_type": "code",
   "execution_count": 32,
   "id": "bef91a6e",
   "metadata": {},
   "outputs": [],
   "source": [
    "# Bank Project\n",
    "\n",
    "class Bank_account:\n",
    "    def __init__(self):\n",
    "        self.first_name = input(\"Enter the first_name\")\n",
    "        self.last_name = input(\"Enter the last_name\")\n",
    "        self.age = input(\"Enter the age\")\n",
    "        self.sex = input(\"Enter the sex\")\n",
    "        self.mobile_number = int(input(\"Enter the mobile_number\"))\n",
    "    \n",
    "    def details(self):\n",
    "        print(f\"The First name is {self.first_name}\")\n",
    "        print(f\"The Last name is {self.last_name}\")\n",
    "        print(f\"The age is {self.age}\")\n",
    "        print(f\"The Sex is {self.sex}\")\n",
    "        print(f\"The Mobile No is {self.mobile_number}\")\n",
    "\n",
    "class Saving_account(Bank_account):\n",
    "    def intrest_rate(self):\n",
    "        return 5\n",
    "    \n",
    "class Current_account(Bank_account):\n",
    "    def intrest_rate(self):\n",
    "        return 0\n",
    "    \n",
    "class Pension_account(Bank_account):\n",
    "    def intrest_rate(self):\n",
    "        return 3\n",
    "    \n",
    "class NRI_account(Bank_account):\n",
    "    def intrest_rate(self):\n",
    "        return 1\n",
    "\n",
    "b = Saving_account()\n",
    "c = Current_account()\n",
    "d = Pension_account()\n",
    "e = NRI_account()\n",
    "\n"
   ]
  },
  {
   "cell_type": "code",
   "execution_count": 31,
   "id": "94e915e2",
   "metadata": {},
   "outputs": [
    {
     "name": "stdout",
     "output_type": "stream",
     "text": [
      "The First name is Nikhil\n",
      "The Last name is Jadhav\n",
      "The age is 26\n",
      "The Sex is Male\n",
      "The Mobile No is 9820909083\n"
     ]
    },
    {
     "data": {
      "text/plain": [
       "5"
      ]
     },
     "execution_count": 31,
     "metadata": {},
     "output_type": "execute_result"
    }
   ],
   "source": [
    "b.details()\n",
    "b.intrest_rate()\n"
   ]
  },
  {
   "cell_type": "code",
   "execution_count": 33,
   "id": "caf69fe7",
   "metadata": {},
   "outputs": [
    {
     "name": "stdout",
     "output_type": "stream",
     "text": [
      "The First name is Shreya\n",
      "The Last name is Bhalerao\n",
      "The age is 15\n",
      "The Sex is Female\n",
      "The Mobile No is 9833309075\n"
     ]
    },
    {
     "data": {
      "text/plain": [
       "0"
      ]
     },
     "execution_count": 33,
     "metadata": {},
     "output_type": "execute_result"
    }
   ],
   "source": [
    "c.details()\n",
    "c.intrest_rate()"
   ]
  },
  {
   "cell_type": "code",
   "execution_count": 34,
   "id": "a7a124b1",
   "metadata": {},
   "outputs": [
    {
     "name": "stdout",
     "output_type": "stream",
     "text": [
      "The First name is Swapnil\n",
      "The Last name is Jadhav\n",
      "The age is 25\n",
      "The Sex is Male\n",
      "The Mobile No is 9892355313\n"
     ]
    },
    {
     "data": {
      "text/plain": [
       "3"
      ]
     },
     "execution_count": 34,
     "metadata": {},
     "output_type": "execute_result"
    }
   ],
   "source": [
    "d.details()\n",
    "d.intrest_rate()"
   ]
  },
  {
   "cell_type": "code",
   "execution_count": 35,
   "id": "7cf565fa",
   "metadata": {},
   "outputs": [
    {
     "name": "stdout",
     "output_type": "stream",
     "text": [
      "The First name is Pranav\n",
      "The Last name is Bhalerao\n",
      "The age is 18\n",
      "The Sex is Male\n",
      "The Mobile No is 8967892900\n"
     ]
    },
    {
     "data": {
      "text/plain": [
       "1"
      ]
     },
     "execution_count": 35,
     "metadata": {},
     "output_type": "execute_result"
    }
   ],
   "source": [
    "e.details()\n",
    "e.intrest_rate()"
   ]
  }
 ],
 "metadata": {
  "kernelspec": {
   "display_name": "base",
   "language": "python",
   "name": "python3"
  },
  "language_info": {
   "codemirror_mode": {
    "name": "ipython",
    "version": 3
   },
   "file_extension": ".py",
   "mimetype": "text/x-python",
   "name": "python",
   "nbconvert_exporter": "python",
   "pygments_lexer": "ipython3",
   "version": "3.12.7"
  }
 },
 "nbformat": 4,
 "nbformat_minor": 5
}
