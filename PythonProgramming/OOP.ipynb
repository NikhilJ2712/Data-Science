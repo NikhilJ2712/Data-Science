{
 "cells": [
  {
   "cell_type": "code",
   "execution_count": null,
   "id": "19e7838b",
   "metadata": {},
   "outputs": [],
   "source": [
    "# OOP : Object Oriented Programming"
   ]
  },
  {
   "cell_type": "code",
   "execution_count": 2,
   "id": "ac941945",
   "metadata": {},
   "outputs": [
    {
     "name": "stdout",
     "output_type": "stream",
     "text": [
      "<class 'list'>\n"
     ]
    }
   ],
   "source": [
    "lst = [1,2,3]\n",
    "print(type(lst))"
   ]
  },
  {
   "cell_type": "code",
   "execution_count": 3,
   "id": "aab622e6",
   "metadata": {},
   "outputs": [
    {
     "data": {
      "text/plain": [
       "12345"
      ]
     },
     "execution_count": 3,
     "metadata": {},
     "output_type": "execute_result"
    }
   ],
   "source": [
    "# OOP : Object Oriented Programming\n",
    "\n",
    "class ClassName:\n",
    "    i = 12345\n",
    "\n",
    "x = ClassName()\n",
    "x.i"
   ]
  },
  {
   "cell_type": "code",
   "execution_count": 4,
   "id": "c2817334",
   "metadata": {},
   "outputs": [
    {
     "name": "stdout",
     "output_type": "stream",
     "text": [
      "10 + 10 j\n"
     ]
    }
   ],
   "source": [
    "class Complex:   # ClassName : Complex\n",
    "    def __init__(self,real,img):     # Constructor Method\n",
    "        self.r = real                # Attribute\n",
    "        self.i = img                 # Attribute\n",
    "\n",
    "x = Complex(10,10)   # x is an object of class Complex\n",
    "x.r   # Calling Attribute using Dot Operator with the help of Object x\n",
    "x.i   # Calling Attribute using Dot Operator with the help of Object x\n",
    "print(x.r,'+',x.i,'j')"
   ]
  },
  {
   "cell_type": "code",
   "execution_count": 13,
   "id": "a5038930",
   "metadata": {},
   "outputs": [
    {
     "data": {
      "text/plain": [
       "300"
      ]
     },
     "execution_count": 13,
     "metadata": {},
     "output_type": "execute_result"
    }
   ],
   "source": [
    "class Addition:\n",
    "    def __init__(self):\n",
    "        self.num1 = 100\n",
    "        self.num2 = 200\n",
    "\n",
    "    def sum(self):\n",
    "        num3 = self.num1 + self.num2\n",
    "        return num3\n",
    "\n",
    "a = Addition()\n",
    "a.sum()  # Output: 300"
   ]
  },
  {
   "cell_type": "code",
   "execution_count": null,
   "id": "68790ec7",
   "metadata": {},
   "outputs": [],
   "source": [
    "''' \n",
    "balance = 10000\n",
    "withdraw = user\n",
    "threshold = 2000\n",
    "\n",
    "'''"
   ]
  },
  {
   "cell_type": "code",
   "execution_count": 1,
   "id": "ee9b749d",
   "metadata": {},
   "outputs": [
    {
     "name": "stdout",
     "output_type": "stream",
     "text": [
      "New Balance is 4000.0\n"
     ]
    }
   ],
   "source": [
    "class Bank:\n",
    "    def __init__(self):\n",
    "        self.balance = 10000\n",
    "        self.threshold = 2000\n",
    "\n",
    "    def trans(self):\n",
    "        withdraw_amount = float(input('Enter the withdraw amount: '))\n",
    "        if withdraw_amount > self.balance:\n",
    "            print('Insufficient Balance')\n",
    "        else:\n",
    "            new_balance = self.balance - withdraw_amount\n",
    "            if new_balance >= self.threshold:\n",
    "                print('New Balance is', new_balance)\n",
    "            else:\n",
    "                print('Check Your Transaction, Once Again')\n",
    "\n",
    "T = Bank()\n",
    "T.trans()\n"
   ]
  }
 ],
 "metadata": {
  "kernelspec": {
   "display_name": "base",
   "language": "python",
   "name": "python3"
  },
  "language_info": {
   "codemirror_mode": {
    "name": "ipython",
    "version": 3
   },
   "file_extension": ".py",
   "mimetype": "text/x-python",
   "name": "python",
   "nbconvert_exporter": "python",
   "pygments_lexer": "ipython3",
   "version": "3.12.7"
  }
 },
 "nbformat": 4,
 "nbformat_minor": 5
}
