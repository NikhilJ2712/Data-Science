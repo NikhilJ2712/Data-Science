{
 "cells": [
  {
   "cell_type": "code",
   "execution_count": 1,
   "id": "3c3e7683",
   "metadata": {},
   "outputs": [
    {
     "name": "stdout",
     "output_type": "stream",
     "text": [
      "<class 'tuple'>\n"
     ]
    },
    {
     "data": {
      "text/plain": [
       "1"
      ]
     },
     "execution_count": 1,
     "metadata": {},
     "output_type": "execute_result"
    }
   ],
   "source": [
    "# Tuple Defination\n",
    "\n",
    "tup = (10,20,30,40)\n",
    "print(type(tup))\n",
    "tup.count(10)"
   ]
  },
  {
   "cell_type": "code",
   "execution_count": 2,
   "id": "e8022c7b",
   "metadata": {},
   "outputs": [
    {
     "data": {
      "text/plain": [
       "0"
      ]
     },
     "execution_count": 2,
     "metadata": {},
     "output_type": "execute_result"
    }
   ],
   "source": [
    "tup.index(10)"
   ]
  },
  {
   "cell_type": "code",
   "execution_count": 3,
   "id": "461ace0a",
   "metadata": {},
   "outputs": [],
   "source": [
    "# Tuple indexing and slicing\n",
    "\n",
    "tup = (10,20,30,[40,50,(30,40,(60,70,80))])"
   ]
  },
  {
   "cell_type": "code",
   "execution_count": 9,
   "id": "bf378fc3",
   "metadata": {},
   "outputs": [
    {
     "name": "stdout",
     "output_type": "stream",
     "text": [
      "70 80\n"
     ]
    }
   ],
   "source": [
    "# Example:\n",
    "# O/p : 70,80\n",
    "output=tup[3][2][2][1:]\n",
    "print(*output)"
   ]
  },
  {
   "cell_type": "code",
   "execution_count": null,
   "id": "42141718",
   "metadata": {},
   "outputs": [
    {
     "name": "stdout",
     "output_type": "stream",
     "text": [
      "The value is 10 \n"
     ]
    }
   ],
   "source": [
    "# Conditional Statement\n",
    "'''  \n",
    "if condition == True:\n",
    "   Perform operation inside the loop\n",
    "else:\n",
    "Perform this opeation\n",
    "\n",
    "Note : 1) = Called as Assignment Opearator 2) == Called as Comparison  Opearator\n",
    "\n",
    "'''\n",
    "num = 10\n",
    "\n",
    "if num == 10:\n",
    "    print('The value is 10 ')\n",
    "else:\n",
    "    print('The value is other than 10')\n"
   ]
  },
  {
   "cell_type": "code",
   "execution_count": 6,
   "id": "cab0b759",
   "metadata": {},
   "outputs": [
    {
     "name": "stdout",
     "output_type": "stream",
     "text": [
      "The Given String is Palindrom \n"
     ]
    }
   ],
   "source": [
    "# Check the given string is Palindrom or not\n",
    "\n",
    "text = 'dad'\n",
    "text1 = text[::-1]\n",
    "\n",
    "if text == text1:\n",
    "   print('The Given String is Palindrom ')\n",
    "else:\n",
    "   print('The Given String is Not Palindrom')\n",
    "\n",
    "\n"
   ]
  },
  {
   "cell_type": "code",
   "execution_count": null,
   "id": "cc4fbeb0",
   "metadata": {},
   "outputs": [],
   "source": [
    "'''\n",
    "\n",
    " if condition:\n",
    "   statement\n",
    "elif condition:\n",
    "   statement\n",
    "else:\n",
    "   statement\n",
    "   \n",
    "'''"
   ]
  },
  {
   "cell_type": "code",
   "execution_count": 10,
   "id": "deca1ea6",
   "metadata": {},
   "outputs": [
    {
     "name": "stdout",
     "output_type": "stream",
     "text": [
      "Best Student\n"
     ]
    }
   ],
   "source": [
    "'''\n",
    "marks > 80  : Best Student\n",
    "Marks between 60 to 79 : Good Student\n",
    "Marks between 50 to 59 : Average Student\n",
    "Marks < 49 : Poor Student\n",
    "\n",
    "'''\n",
    "marks = float (input('Enter Marks  of the Student:'))\n",
    "\n",
    "if (marks > 80):\n",
    "    print('Best Student')\n",
    "elif (marks < 80 and marks > 60):\n",
    "    print('Good Student')\n",
    "elif (marks < 60 and marks > 50):\n",
    "    print('Average Student')\n",
    "else:\n",
    "    print('Poor Student')\n",
    "    \n",
    "    \n",
    "\n",
    "\n",
    "\n"
   ]
  },
  {
   "cell_type": "code",
   "execution_count": null,
   "id": "f1564890",
   "metadata": {},
   "outputs": [],
   "source": [
    "''' \n",
    "balance = 10000\n",
    "withdraw = Amount \n",
    "threshould = 2000\n",
    "\n",
    "'''\n"
   ]
  },
  {
   "cell_type": "code",
   "execution_count": 14,
   "id": "f63118eb",
   "metadata": {},
   "outputs": [
    {
     "name": "stdout",
     "output_type": "stream",
     "text": [
      "Check Your Transaction, Once Again\n"
     ]
    }
   ],
   "source": [
    "balance = 10000\n",
    "withdraw = float(input(\"Enter amount to withdraw: \"))\n",
    "threshold = 2000\n",
    "\n",
    "if withdraw >= balance:\n",
    "    print('Insufficient Balance')\n",
    "if withdraw <= balance:\n",
    "    new_balance = balance - withdraw\n",
    "    if new_balance >= 2000:\n",
    "        print('New Balance is', new_balance)\n",
    "    else :\n",
    "        print('Check Your Transaction, Once Again')\n",
    "\n"
   ]
  },
  {
   "cell_type": "code",
   "execution_count": 15,
   "id": "5f53f3ac",
   "metadata": {},
   "outputs": [
    {
     "name": "stdout",
     "output_type": "stream",
     "text": [
      "1\n",
      "2\n",
      "3\n",
      "4\n",
      "5\n",
      "6\n",
      "7\n",
      "8\n",
      "9\n",
      "10\n"
     ]
    }
   ],
   "source": [
    "# For Loop - it will perform iteration\n",
    "for i in range(1,11):\n",
    "    print(i)"
   ]
  },
  {
   "cell_type": "code",
   "execution_count": 16,
   "id": "f5749e38",
   "metadata": {},
   "outputs": [
    {
     "name": "stdout",
     "output_type": "stream",
     "text": [
      "1 2 3 4 5 6 7 8 9 10 "
     ]
    }
   ],
   "source": [
    "for i in range(1,11):\n",
    "    print(i,end = \" \")"
   ]
  },
  {
   "cell_type": "code",
   "execution_count": 21,
   "id": "c064134f",
   "metadata": {},
   "outputs": [
    {
     "name": "stdout",
     "output_type": "stream",
     "text": [
      "*\n",
      "**\n",
      "***\n",
      "****\n",
      "*****\n"
     ]
    }
   ],
   "source": [
    "''' \n",
    "*\n",
    "**\n",
    "***\n",
    "****\n",
    "*****\n",
    "\n",
    "'''\n",
    "for i in range(1,6):\n",
    "    print('*'*i)"
   ]
  },
  {
   "cell_type": "code",
   "execution_count": 24,
   "id": "fbeb9653",
   "metadata": {},
   "outputs": [
    {
     "name": "stdout",
     "output_type": "stream",
     "text": [
      "*\n",
      "****\n",
      "*********\n",
      "****************\n",
      "*************************\n"
     ]
    }
   ],
   "source": [
    "for i in range(1,6):\n",
    "    print('*'*i**2)"
   ]
  },
  {
   "cell_type": "code",
   "execution_count": 25,
   "id": "e792fc86",
   "metadata": {},
   "outputs": [
    {
     "name": "stdout",
     "output_type": "stream",
     "text": [
      "*\n",
      "****\n",
      "*********\n",
      "****************\n",
      "*************************\n"
     ]
    }
   ],
   "source": [
    "for i in range(1,6):\n",
    "    print('*'*i*i)"
   ]
  }
 ],
 "metadata": {
  "kernelspec": {
   "display_name": "base",
   "language": "python",
   "name": "python3"
  },
  "language_info": {
   "codemirror_mode": {
    "name": "ipython",
    "version": 3
   },
   "file_extension": ".py",
   "mimetype": "text/x-python",
   "name": "python",
   "nbconvert_exporter": "python",
   "pygments_lexer": "ipython3",
   "version": "3.12.7"
  }
 },
 "nbformat": 4,
 "nbformat_minor": 5
}
