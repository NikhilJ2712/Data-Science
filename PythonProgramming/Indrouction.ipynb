{
 "cells": [
  {
   "cell_type": "markdown",
   "id": "3108ce16",
   "metadata": {},
   "source": [
    "### Introduction to Python Programming"
   ]
  },
  {
   "cell_type": "code",
   "execution_count": null,
   "id": "43127559",
   "metadata": {},
   "outputs": [
    {
     "name": "stdout",
     "output_type": "stream",
     "text": [
      "<class 'int'>\n",
      "<class 'float'>\n",
      "<class 'str'>\n"
     ]
    }
   ],
   "source": [
    "# Variable Defination \n",
    "\n",
    "number  = 1000            # Defining Integer Variable\n",
    "decimal = 1000.00         # Defining the Float Vaiable:Decimal Values\n",
    "string  = 'Hello World'   # Defining String: \"Text Information\"\n",
    "\n",
    "''' \n",
    "Data Types in Python are as follows\n",
    "1. Integer\n",
    "2. Decimal\n",
    "3. String\n",
    "\n",
    "'''\n",
    "# Checking Datatype of Variables\n",
    "print(type(number))\n",
    "print(type(decimal))\n",
    "print(type(string))"
   ]
  },
  {
   "cell_type": "code",
   "execution_count": 6,
   "id": "3b031863",
   "metadata": {},
   "outputs": [
    {
     "name": "stdout",
     "output_type": "stream",
     "text": [
      "100\n"
     ]
    }
   ],
   "source": [
    "#Type casting of Data type\n",
    "\n",
    "num = 100.2908383\n",
    "print(int(num))"
   ]
  },
  {
   "cell_type": "code",
   "execution_count": 3,
   "id": "6b7eadba",
   "metadata": {},
   "outputs": [
    {
     "ename": "ValueError",
     "evalue": "invalid literal for int() with base 10: 'jh'",
     "output_type": "error",
     "traceback": [
      "\u001b[1;31m---------------------------------------------------------------------------\u001b[0m",
      "\u001b[1;31mValueError\u001b[0m                                Traceback (most recent call last)",
      "Cell \u001b[1;32mIn[3], line 2\u001b[0m\n\u001b[0;32m      1\u001b[0m \u001b[38;5;66;03m#using input()\u001b[39;00m\n\u001b[1;32m----> 2\u001b[0m num \u001b[38;5;241m=\u001b[39m \u001b[38;5;28mint\u001b[39m(\u001b[38;5;28minput\u001b[39m(\u001b[38;5;124m'\u001b[39m\u001b[38;5;124mEnter the value:\u001b[39m\u001b[38;5;124m'\u001b[39m))\n\u001b[0;32m      3\u001b[0m \u001b[38;5;124;03m'''\u001b[39;00m\n\u001b[0;32m      4\u001b[0m \u001b[38;5;124;03mwhenever we use input function, the out of input function is always string\u001b[39;00m\n\u001b[0;32m      5\u001b[0m \n\u001b[0;32m      6\u001b[0m \u001b[38;5;124;03m'''\u001b[39;00m\n\u001b[0;32m      7\u001b[0m \u001b[38;5;28mprint\u001b[39m(\u001b[38;5;28mtype\u001b[39m(num))\n",
      "\u001b[1;31mValueError\u001b[0m: invalid literal for int() with base 10: 'jh'"
     ]
    }
   ],
   "source": [
    "#using input()\n",
    "num = int(input('Enter the value:'))\n",
    "'''\n",
    "whenever we use input function, the out of input function is always string\n",
    "\n",
    "'''\n",
    "print(type(num))\n",
    "\n",
    "print(int(num))\n",
    "print(float(num))"
   ]
  }
 ],
 "metadata": {
  "kernelspec": {
   "display_name": "base",
   "language": "python",
   "name": "python3"
  },
  "language_info": {
   "codemirror_mode": {
    "name": "ipython",
    "version": 3
   },
   "file_extension": ".py",
   "mimetype": "text/x-python",
   "name": "python",
   "nbconvert_exporter": "python",
   "pygments_lexer": "ipython3",
   "version": "3.12.7"
  }
 },
 "nbformat": 4,
 "nbformat_minor": 5
}
