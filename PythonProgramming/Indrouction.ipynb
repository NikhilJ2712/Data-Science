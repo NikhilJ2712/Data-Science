{
 "cells": [
  {
   "cell_type": "markdown",
   "id": "3108ce16",
   "metadata": {},
   "source": [
    "### Introduction to Python Programming"
   ]
  },
  {
   "cell_type": "code",
   "execution_count": null,
   "id": "43127559",
   "metadata": {},
   "outputs": [
    {
     "name": "stdout",
     "output_type": "stream",
     "text": [
      "<class 'int'>\n",
      "<class 'float'>\n",
      "<class 'str'>\n"
     ]
    }
   ],
   "source": [
    "# Variable Defination \n",
    "\n",
    "number  = 1000            # Defining Integer Variable\n",
    "decimal = 1000.00         # Defining the Float Vaiable:Decimal Values\n",
    "string  = 'Hello World'   # Defining String: \"Text Information\"\n",
    "\n",
    "''' \n",
    "Data Types in Python are as follows\n",
    "1. Integer\n",
    "2. Decimal\n",
    "3. String\n",
    "\n",
    "'''\n",
    "# Checking Datatype of Variables\n",
    "print(type(number))\n",
    "print(type(decimal))\n",
    "print(type(string))"
   ]
  },
  {
   "cell_type": "code",
   "execution_count": 6,
   "id": "3b031863",
   "metadata": {},
   "outputs": [
    {
     "name": "stdout",
     "output_type": "stream",
     "text": [
      "100\n"
     ]
    }
   ],
   "source": [
    "#Type casting of Data type\n",
    "\n",
    "num = 100.2908383\n",
    "print(int(num))"
   ]
  },
  {
   "cell_type": "code",
   "execution_count": 1,
   "id": "d2408f27",
   "metadata": {},
   "outputs": [
    {
     "name": "stdout",
     "output_type": "stream",
     "text": [
      "<class 'str'>\n",
      "1000\n",
      "1000.0\n"
     ]
    }
   ],
   "source": [
    "# Using Input function\n",
    "# input() ---->> Function\n",
    "\n",
    "num = input('Enter the Value:')\n",
    "\n",
    "'''\n",
    "Whenever we use input function, the output of input function is always string\n",
    "\n",
    "'''\n",
    "print(type(num))\n",
    "\n",
    "#Doing Typecasting\n",
    "print(int(num)) # Typecasting string value to integer\n",
    "print(float(num))  # Typecasting string value to flaot\n"
   ]
  },
  {
   "cell_type": "code",
   "execution_count": 2,
   "id": "cbd8078a",
   "metadata": {},
   "outputs": [
    {
     "name": "stdout",
     "output_type": "stream",
     "text": [
      "Rohit Sharma\n",
      "<class 'str'>\n"
     ]
    }
   ],
   "source": [
    "# Ask the user to enter the string using input function\n",
    "\n",
    "str = input('Enter the name of the person:')\n",
    "\n",
    "print(str)\n",
    "print(type(str))\n",
    "\n"
   ]
  },
  {
   "cell_type": "code",
   "execution_count": 5,
   "id": "8122b78f",
   "metadata": {},
   "outputs": [
    {
     "name": "stdout",
     "output_type": "stream",
     "text": [
      "The addition of two numbers as 10.0 and 20.0 is 30.0\n",
      "The addition of two numbers as num1 and num2 is 30.0\n"
     ]
    }
   ],
   "source": [
    "#   Perform Mathamatical Opertaions\n",
    "\n",
    "num1 = float (input('Enter the First Number: '))\n",
    "num2 = float (input('Enter the Second Number: '))\n",
    "\n",
    "num3 = num1 + num2\n",
    "\n",
    "# Using fstring method\n",
    "\n",
    "\n",
    "print(f'The addition of two numbers as {num1} and {num2} is',num3) # First Method\n",
    "\n",
    "# Using variable method\n",
    "print(f'The addition of two numbers as num1 and num2 is',num3) # Second Method "
   ]
  },
  {
   "cell_type": "code",
   "execution_count": 6,
   "id": "03b24b32",
   "metadata": {},
   "outputs": [
    {
     "name": "stdout",
     "output_type": "stream",
     "text": [
      "W\n",
      "W\n"
     ]
    }
   ],
   "source": [
    "# Strings Indexing and Slicing\n",
    "\n",
    "string = input ('enter the String :')\n",
    "\n",
    "''' \n",
    "\n",
    "H e l l o   W o  r  l  d\n",
    "0 1 2 3 4 5 6 7  8  9  10  # Assigning Index From Left to Right (For +ve Numbers)\n",
    ".............-4 -3 -2 -1   # Assigning Index From Right to Left (For -ve Numbers)\n",
    "\n",
    "'''\n",
    "\n",
    "print(string[6])   # Indexing\n",
    "print(string[-5])  # Indexing"
   ]
  },
  {
   "cell_type": "code",
   "execution_count": null,
   "id": "012f2bec",
   "metadata": {},
   "outputs": [
    {
     "name": "stdout",
     "output_type": "stream",
     "text": [
      "ell\n",
      "Hello Worl\n",
      "llo Wor\n",
      "o Worl\n"
     ]
    }
   ],
   "source": [
    "# Concept of Slicing\n",
    "string = input ('Enter the String :')\n",
    "\n",
    "'''\n",
    "string[Start:Stop]\n",
    "Example: String = Hello World\n",
    "string[1:4] ---> o/p:--> ell\n",
    "\n",
    "'''\n",
    "\n",
    "print(string[1:4])\n",
    "print(string[:-1])\n",
    "print(string[2:-2])\n",
    "print(string[4:-1])\n"
   ]
  },
  {
   "cell_type": "code",
   "execution_count": 12,
   "id": "99f45332",
   "metadata": {},
   "outputs": [
    {
     "name": "stdout",
     "output_type": "stream",
     "text": [
      "el ol\n"
     ]
    }
   ],
   "source": [
    "# Concept of Slicing\n",
    "string = input ('Enter the String :')\n",
    "\n",
    "'''\n",
    "string[Start:Stop:Step]\n",
    "Example: String = Hello World\n",
    "string[1::2] ---> o/p:--> el\n",
    "\n",
    "'''\n",
    "print(string[1::2])\n"
   ]
  },
  {
   "cell_type": "code",
   "execution_count": 15,
   "id": "1212e3f3",
   "metadata": {},
   "outputs": [
    {
     "name": "stdout",
     "output_type": "stream",
     "text": [
      "HloWloet h ol fpto rgamn\n",
      "o Welcome to the world of python programmi\n",
      "gnimmargorp nohtyp fo dlrow eht ot emocleW olleH\n",
      "g\n",
      "Hello Welcome to the world of python programmi\n"
     ]
    }
   ],
   "source": [
    "# Concept of Indexing and Slicing Togther\n",
    "str = 'Hello Welcome to the world of python programming'\n",
    "print(str[::2])\n",
    "print(str[4:-2:])\n",
    "print(str[::-1])\n",
    "print(str[:-2:-1])\n",
    "print(str[:-2:1])\n",
    "\n"
   ]
  },
  {
   "cell_type": "code",
   "execution_count": null,
   "id": "c734dffd",
   "metadata": {},
   "outputs": [
    {
     "name": "stdout",
     "output_type": "stream",
     "text": [
      "[10, 20, 30, 40]\n",
      "<class 'list'>\n",
      "[10, 20, 30, 40, 50]\n"
     ]
    }
   ],
   "source": [
    "# Data Strucures in Python Programming\n",
    "\n",
    "'''\n",
    "1. List        : [] : Mutable in Nature - We can change\n",
    "2. Tuple       : () : IMMutable in Nature - We cannot change\n",
    "3. Dictionary  : {'key1': Value1, 'key2':value2} -IMMutable in Nature\n",
    "4. Sets        : {1,2,3,4,5} - IMMutable in Nature\n",
    "\n",
    "\n",
    "If you are performing any computaional opeartion or any software developement programs tuple is preffered compared to list.\n",
    " why tuple - because tupple IMMutable in Nature- It perform Fast operations\n",
    "'''\n",
    "# List Defination\n",
    "lst = [10,20,30,40]  # Array means arrange the number in sequnce\n",
    "\n",
    "print(lst)\n",
    "print(type(lst))\n",
    "# append() this is function which defined in class list\n",
    "# Therefore, append() is a method of calss list\n",
    "# lst.append(50) : You are calling function using .operator\n",
    "lst.append(50)\n",
    "print(lst)"
   ]
  }
 ],
 "metadata": {
  "kernelspec": {
   "display_name": "base",
   "language": "python",
   "name": "python3"
  },
  "language_info": {
   "codemirror_mode": {
    "name": "ipython",
    "version": 3
   },
   "file_extension": ".py",
   "mimetype": "text/x-python",
   "name": "python",
   "nbconvert_exporter": "python",
   "pygments_lexer": "ipython3",
   "version": "3.12.7"
  }
 },
 "nbformat": 4,
 "nbformat_minor": 5
}
