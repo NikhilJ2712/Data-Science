{
 "cells": [
  {
   "cell_type": "markdown",
   "id": "3108ce16",
   "metadata": {},
   "source": [
    "### Introduction to Python Programming"
   ]
  },
  {
   "cell_type": "code",
   "execution_count": null,
   "id": "43127559",
   "metadata": {},
   "outputs": [
    {
     "name": "stdout",
     "output_type": "stream",
     "text": [
      "<class 'int'>\n",
      "<class 'float'>\n",
      "<class 'str'>\n"
     ]
    }
   ],
   "source": [
    "# Variable Defination \n",
    "\n",
    "number  = 1000            # Defining Integer Variable\n",
    "decimal = 1000.00         # Defining the Float Vaiable:Decimal Values\n",
    "string  = 'Hello World'   # Defining String: \"Text Information\"\n",
    "\n",
    "''' \n",
    "Data Types in Python are as follows\n",
    "1. Integer\n",
    "2. Decimal\n",
    "3. String\n",
    "\n",
    "'''\n",
    "# Checking Datatype of Variables\n",
    "print(type(number))\n",
    "print(type(decimal))\n",
    "print(type(string))"
   ]
  },
  {
   "cell_type": "code",
   "execution_count": 6,
   "id": "3b031863",
   "metadata": {},
   "outputs": [
    {
     "name": "stdout",
     "output_type": "stream",
     "text": [
      "100\n"
     ]
    }
   ],
   "source": [
    "#Type casting of Data type\n",
    "\n",
    "num = 100.2908383\n",
    "print(int(num))"
   ]
  },
  {
   "cell_type": "code",
   "execution_count": 1,
   "id": "d2408f27",
   "metadata": {},
   "outputs": [
    {
     "name": "stdout",
     "output_type": "stream",
     "text": [
      "<class 'str'>\n",
      "1000\n",
      "1000.0\n"
     ]
    }
   ],
   "source": [
    "# Using Input function\n",
    "# input() ---->> Function\n",
    "\n",
    "num = input('Enter the Value')\n",
    "\n",
    "'''\n",
    "Whenever we use input function, the output of input function is always string\n",
    "\n",
    "'''\n",
    "print(type(num))\n",
    "\n",
    "#Doing Typecasting\n",
    "print(int(num)) # Typecasting string value to integer\n",
    "print(float(num))  # Typecasting string value to flaot\n"
   ]
  },
  {
   "cell_type": "code",
   "execution_count": 2,
   "id": "cbd8078a",
   "metadata": {},
   "outputs": [
    {
     "name": "stdout",
     "output_type": "stream",
     "text": [
      "Rohit Sharma\n",
      "<class 'str'>\n"
     ]
    }
   ],
   "source": [
    "# Ask the user to enter the string using input function\n",
    "\n",
    "str = input('Enter the name of the person')\n",
    "\n",
    "print(str)\n",
    "print(type(str))\n",
    "\n"
   ]
  }
 ],
 "metadata": {
  "kernelspec": {
   "display_name": "base",
   "language": "python",
   "name": "python3"
  },
  "language_info": {
   "codemirror_mode": {
    "name": "ipython",
    "version": 3
   },
   "file_extension": ".py",
   "mimetype": "text/x-python",
   "name": "python",
   "nbconvert_exporter": "python",
   "pygments_lexer": "ipython3",
   "version": "3.12.7"
  }
 },
 "nbformat": 4,
 "nbformat_minor": 5
}
