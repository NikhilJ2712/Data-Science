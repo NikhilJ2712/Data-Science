{
 "cells": [
  {
   "cell_type": "code",
   "execution_count": 1,
   "id": "b64bc61c",
   "metadata": {},
   "outputs": [
    {
     "name": "stdout",
     "output_type": "stream",
     "text": [
      "0\n",
      "1\n",
      "4\n",
      "9\n",
      "16\n",
      "25\n",
      "36\n",
      "49\n",
      "64\n",
      "81\n"
     ]
    }
   ],
   "source": [
    "# For Loop\n",
    "for i in range (0,10):\n",
    "    print(i*i)"
   ]
  },
  {
   "cell_type": "code",
   "execution_count": 3,
   "id": "09d14a87",
   "metadata": {},
   "outputs": [
    {
     "name": "stdout",
     "output_type": "stream",
     "text": [
      "[0]\n",
      "[0, 1]\n",
      "[0, 1, 4]\n",
      "[0, 1, 4, 9]\n",
      "[0, 1, 4, 9, 16]\n",
      "[0, 1, 4, 9, 16, 25]\n",
      "[0, 1, 4, 9, 16, 25, 36]\n",
      "[0, 1, 4, 9, 16, 25, 36, 49]\n",
      "[0, 1, 4, 9, 16, 25, 36, 49, 64]\n",
      "[0, 1, 4, 9, 16, 25, 36, 49, 64, 81]\n"
     ]
    }
   ],
   "source": [
    "# For Loop\n",
    "list = []\n",
    "for i in range (0,10):\n",
    "    list.append(i*i)\n",
    "    print(list)"
   ]
  },
  {
   "cell_type": "code",
   "execution_count": 4,
   "id": "cc7137f6",
   "metadata": {},
   "outputs": [
    {
     "data": {
      "text/plain": [
       "[0, 1, 4, 9, 16, 25, 36, 49, 64, 81]"
      ]
     },
     "execution_count": 4,
     "metadata": {},
     "output_type": "execute_result"
    }
   ],
   "source": [
    "# List Comprehnsion\n",
    "# variable = [expression for count in range (x1,x2)]\n",
    "squre = [i*i for i in range (0,10)]\n",
    "squre"
   ]
  },
  {
   "cell_type": "code",
   "execution_count": 7,
   "id": "1895bfbb",
   "metadata": {},
   "outputs": [
    {
     "data": {
      "text/plain": [
       "[False, True, False, True, False, True, False, True, False, True]"
      ]
     },
     "execution_count": 7,
     "metadata": {},
     "output_type": "execute_result"
    }
   ],
   "source": [
    "odd = [i%2 == 1 for i in range (0,10)]\n",
    "odd"
   ]
  },
  {
   "cell_type": "code",
   "execution_count": 13,
   "id": "e157beaf",
   "metadata": {},
   "outputs": [
    {
     "data": {
      "text/plain": [
       "[False, True, False, True, False, True, False, True, False, True]"
      ]
     },
     "execution_count": 13,
     "metadata": {},
     "output_type": "execute_result"
    }
   ],
   "source": [
    "odd = [i%2 != 0 for i in range (0,10)]\n",
    "odd"
   ]
  },
  {
   "cell_type": "code",
   "execution_count": null,
   "id": "26e8a2cf",
   "metadata": {},
   "outputs": [
    {
     "data": {
      "text/plain": [
       "[0, 1, 4, 9, 16, 25, 36, 49, 64, 81]"
      ]
     },
     "execution_count": 9,
     "metadata": {},
     "output_type": "execute_result"
    }
   ],
   "source": [
    "square = [i**2 for i in range (0,10)]\n",
    "square"
   ]
  },
  {
   "cell_type": "code",
   "execution_count": null,
   "id": "342c0036",
   "metadata": {},
   "outputs": [
    {
     "data": {
      "text/plain": [
       "['ANIKET', 'PARAG', 'AJAY', 'TANVI', 'MIHIR', 'NIKHIL']"
      ]
     },
     "execution_count": 10,
     "metadata": {},
     "output_type": "execute_result"
    }
   ],
   "source": [
    "lst = ['Aniket', 'Parag', 'Ajay', 'Tanvi', 'Mihir', 'Nikhil']\n",
    "new_list = [lst.upper() for lst in lst]   # Concept Of Upper\n",
    "new_list\n"
   ]
  },
  {
   "cell_type": "code",
   "execution_count": null,
   "id": "e6e79849",
   "metadata": {},
   "outputs": [
    {
     "data": {
      "text/plain": [
       "['aniket', 'parag', 'ajay', 'tanvi', 'mihir', 'nikhil']"
      ]
     },
     "execution_count": 11,
     "metadata": {},
     "output_type": "execute_result"
    }
   ],
   "source": [
    "new_list = [lst.lower() for lst in lst] # Concept Of Lower\n",
    "new_list"
   ]
  },
  {
   "cell_type": "code",
   "execution_count": null,
   "id": "769ffe37",
   "metadata": {},
   "outputs": [
    {
     "data": {
      "text/plain": [
       "[6, 5, 4, 5, 5, 6]"
      ]
     },
     "execution_count": 12,
     "metadata": {},
     "output_type": "execute_result"
    }
   ],
   "source": [
    "new_list = [len(lst) for lst in lst] # Concept Of Lenght\n",
    "new_list"
   ]
  },
  {
   "cell_type": "code",
   "execution_count": null,
   "id": "1e722235",
   "metadata": {},
   "outputs": [
    {
     "data": {
      "text/plain": [
       "31"
      ]
     },
     "execution_count": 14,
     "metadata": {},
     "output_type": "execute_result"
    }
   ],
   "source": [
    "new_list = sum([len(lst) for lst in lst]) # Concept Of Lenght in sum\n",
    "new_list"
   ]
  },
  {
   "cell_type": "code",
   "execution_count": null,
   "id": "6126825d",
   "metadata": {},
   "outputs": [
    {
     "data": {
      "text/plain": [
       "6"
      ]
     },
     "execution_count": 15,
     "metadata": {},
     "output_type": "execute_result"
    }
   ],
   "source": [
    "new_list = max([len(lst) for lst in lst]) # Concept Of Lenght in max\n",
    "new_list"
   ]
  },
  {
   "cell_type": "code",
   "execution_count": null,
   "id": "d51435a0",
   "metadata": {},
   "outputs": [
    {
     "data": {
      "text/plain": [
       "4"
      ]
     },
     "execution_count": 16,
     "metadata": {},
     "output_type": "execute_result"
    }
   ],
   "source": [
    "new_list = min([len(lst) for lst in lst]) # Concept Of Lenght in min\n",
    "new_list"
   ]
  },
  {
   "cell_type": "code",
   "execution_count": 2,
   "id": "d797beb1",
   "metadata": {},
   "outputs": [
    {
     "data": {
      "text/plain": [
       "20"
      ]
     },
     "execution_count": 2,
     "metadata": {},
     "output_type": "execute_result"
    }
   ],
   "source": [
    "# Logic: 0 2 4 6 8 : sum : 20 - For Even\n",
    "n = sum([x for x in range (0,10) if x % 2 == 0])\n",
    "n"
   ]
  },
  {
   "cell_type": "code",
   "execution_count": 5,
   "id": "98cd2884",
   "metadata": {},
   "outputs": [
    {
     "data": {
      "text/plain": [
       "25"
      ]
     },
     "execution_count": 5,
     "metadata": {},
     "output_type": "execute_result"
    }
   ],
   "source": [
    "# Logic: 1 3 5 7 9 : sum : 25 - For Odd\n",
    "n = sum([x for x in range (0,10) if x % 2 != 0])  # x % 2 != 1- this condition also used here\n",
    "n"
   ]
  },
  {
   "cell_type": "code",
   "execution_count": 6,
   "id": "caad63e4",
   "metadata": {},
   "outputs": [
    {
     "data": {
      "text/plain": [
       "120"
      ]
     },
     "execution_count": 6,
     "metadata": {},
     "output_type": "execute_result"
    }
   ],
   "source": [
    "# math - inbuild module - built-in function\n",
    "\n",
    "# 5! = 5*4*3*2*1\n",
    "\n",
    "import math\n",
    "\n",
    "math.factorial(5)\n"
   ]
  },
  {
   "cell_type": "code",
   "execution_count": 7,
   "id": "cf6e152a",
   "metadata": {},
   "outputs": [
    {
     "name": "stdout",
     "output_type": "stream",
     "text": [
      "2.23606797749979\n",
      "2.23606797749979\n"
     ]
    }
   ],
   "source": [
    "# Squre Root\n",
    "\n",
    "print(math.sqrt(5))\n",
    "print(5**0.5)"
   ]
  },
  {
   "cell_type": "code",
   "execution_count": 8,
   "id": "15198170",
   "metadata": {},
   "outputs": [
    {
     "data": {
      "text/plain": [
       "16.0"
      ]
     },
     "execution_count": 8,
     "metadata": {},
     "output_type": "execute_result"
    }
   ],
   "source": [
    "# Power Function\n",
    "\n",
    "math.pow(2,4)"
   ]
  },
  {
   "cell_type": "code",
   "execution_count": 9,
   "id": "dc2e9072",
   "metadata": {},
   "outputs": [
    {
     "data": {
      "text/plain": [
       "2.23606797749979"
      ]
     },
     "execution_count": 9,
     "metadata": {},
     "output_type": "execute_result"
    }
   ],
   "source": [
    "math.pow(5,0.5)"
   ]
  },
  {
   "cell_type": "code",
   "execution_count": 11,
   "id": "0092b87b",
   "metadata": {},
   "outputs": [
    {
     "name": "stdout",
     "output_type": "stream",
     "text": [
      "0.6989700043360189\n"
     ]
    }
   ],
   "source": [
    "print (math.log10(5))"
   ]
  },
  {
   "cell_type": "code",
   "execution_count": null,
   "id": "011f3ac1",
   "metadata": {},
   "outputs": [],
   "source": [
    "# Functions and Modules in Python Programming\n",
    "# function is used for reusibility\n",
    "\n",
    "import math\n",
    "import os\n",
    "import datetime"
   ]
  },
  {
   "cell_type": "code",
   "execution_count": 12,
   "id": "6a8d4bad",
   "metadata": {},
   "outputs": [
    {
     "name": "stdout",
     "output_type": "stream",
     "text": [
      "Hello World\n"
     ]
    }
   ],
   "source": [
    "# define function\n",
    "\n",
    "def sum():  # sum() function definition\n",
    "    print('Hello World')\n",
    "\n",
    "ans = sum() # sum() function calling and storing in variable ans\n"
   ]
  },
  {
   "cell_type": "code",
   "execution_count": null,
   "id": "45fd8aa2",
   "metadata": {},
   "outputs": [
    {
     "name": "stdout",
     "output_type": "stream",
     "text": [
      "300\n"
     ]
    }
   ],
   "source": [
    "def sum(num1,num2):\n",
    "    num3 = num1 + num2\n",
    "    print(num3)\n",
    "\n",
    "ans = sum(100,200)"
   ]
  },
  {
   "cell_type": "code",
   "execution_count": 16,
   "id": "8968785b",
   "metadata": {},
   "outputs": [
    {
     "name": "stdout",
     "output_type": "stream",
     "text": [
      "The addition of two numbers 100 and 200 is 300\n"
     ]
    }
   ],
   "source": [
    "def sum(num1,num2):\n",
    "    num3 = num1 + num2\n",
    "    print(f'The addition of two numbers {num1} and {num2} is',num3)\n",
    "\n",
    "ans = sum(100,200)"
   ]
  },
  {
   "cell_type": "code",
   "execution_count": 18,
   "id": "cac5535d",
   "metadata": {},
   "outputs": [
    {
     "name": "stdout",
     "output_type": "stream",
     "text": [
      "The addition of two numbers 10.0 and 2.0 is 12.0\n",
      "The multiplication of two numbers 10.0 and 2.0 is 20.0\n",
      "The substraction of two numbers 10.0 and 2.0 is 8.0\n",
      "The division of two numbers 10.0 and 2.0 is 5.0\n",
      "The modulus of two numbers 10.0 and 2.0 is 0.0\n"
     ]
    }
   ],
   "source": [
    "num1=float(input('Enter the First number:'))\n",
    "num2=float(input('Enter the Second number:'))\n",
    "\n",
    "def sum(num1,num2):\n",
    "    num3 = num1 + num2\n",
    "    print(f'The addition of two numbers {num1} and {num2} is',num3)\n",
    "\n",
    "def mul(num1,num2):\n",
    "    num3 = num1 * num2\n",
    "    print(f'The multiplication of two numbers {num1} and {num2} is',num3)\n",
    "\n",
    "def sub(num1,num2):\n",
    "    num3 = num1 - num2\n",
    "    print(f'The substraction of two numbers {num1} and {num2} is',num3)\n",
    "\n",
    "def div(num1,num2):\n",
    "    num3 = num1 / num2\n",
    "    print(f'The division of two numbers {num1} and {num2} is',num3)\n",
    "\n",
    "def mod(num1,num2):\n",
    "    num3 = num1 % num2\n",
    "    print(f'The modulus of two numbers {num1} and {num2} is',num3)\n",
    "\n",
    "\n",
    "addition = sum(num1,num2)\n",
    "multiplication = mul(num1,num2)\n",
    "substraction = sub(num1,num2)\n",
    "division = div(num1,num2)\n",
    "modulus = mod(num1,num2)\n",
    "\n",
    "\n"
   ]
  },
  {
   "cell_type": "code",
   "execution_count": 19,
   "id": "313ddd37",
   "metadata": {},
   "outputs": [
    {
     "name": "stdout",
     "output_type": "stream",
     "text": [
      "The addition of two numbers 10.0 and 2.0 is 12.0\n",
      "The multiplication of two numbers 10.0 and 2.0 is 20.0\n",
      "The substraction of two numbers 10.0 and 2.0 is 8.0\n",
      "The division of two numbers 10.0 and 2.0 is 5.0\n",
      "The modulus of two numbers 10.0 and 2.0 is 0.0\n"
     ]
    }
   ],
   "source": [
    "num1=float(input('Enter the First number:'))\n",
    "num2=float(input('Enter the Second number:'))\n",
    "\n",
    "def sum(num1,num2):\n",
    "    num3 = num1 + num2\n",
    "    print(f'The addition of two numbers {num1} and {num2} is',num3)\n",
    "    return num3\n",
    "\n",
    "def mul(num1,num2):\n",
    "    num4 = num1 * num2\n",
    "    print(f'The multiplication of two numbers {num1} and {num2} is',num4)\n",
    "    return num4\n",
    "\n",
    "def sub(num1,num2):\n",
    "    num5 = num1 - num2\n",
    "    print(f'The substraction of two numbers {num1} and {num2} is',num5)\n",
    "    return num5\n",
    "\n",
    "def div(num1,num2):\n",
    "    num6 = num1 / num2\n",
    "    print(f'The division of two numbers {num1} and {num2} is',num6)\n",
    "    return num6\n",
    "\n",
    "def mod(num1,num2):\n",
    "    num7 = num1 % num2\n",
    "    print(f'The modulus of two numbers {num1} and {num2} is',num7)\n",
    "    return num7\n",
    "\n",
    "\n",
    "addition = sum(num1,num2)\n",
    "multiplication = mul(num1,num2)\n",
    "substraction = sub(num1,num2)\n",
    "division = div(num1,num2)\n",
    "modulus = mod(num1,num2)\n"
   ]
  },
  {
   "cell_type": "code",
   "execution_count": 20,
   "id": "df2d27c3",
   "metadata": {},
   "outputs": [
    {
     "data": {
      "text/plain": [
       "12.0"
      ]
     },
     "execution_count": 20,
     "metadata": {},
     "output_type": "execute_result"
    }
   ],
   "source": [
    "addition"
   ]
  },
  {
   "cell_type": "code",
   "execution_count": 21,
   "id": "ef625dc4",
   "metadata": {},
   "outputs": [
    {
     "data": {
      "text/plain": [
       "8.0"
      ]
     },
     "execution_count": 21,
     "metadata": {},
     "output_type": "execute_result"
    }
   ],
   "source": [
    "substraction"
   ]
  },
  {
   "cell_type": "code",
   "execution_count": 22,
   "id": "317be23f",
   "metadata": {},
   "outputs": [
    {
     "data": {
      "text/plain": [
       "20.0"
      ]
     },
     "execution_count": 22,
     "metadata": {},
     "output_type": "execute_result"
    }
   ],
   "source": [
    "multiplication"
   ]
  },
  {
   "cell_type": "code",
   "execution_count": 23,
   "id": "65be3195",
   "metadata": {},
   "outputs": [
    {
     "data": {
      "text/plain": [
       "5.0"
      ]
     },
     "execution_count": 23,
     "metadata": {},
     "output_type": "execute_result"
    }
   ],
   "source": [
    "division"
   ]
  },
  {
   "cell_type": "code",
   "execution_count": 24,
   "id": "88e1ea8d",
   "metadata": {},
   "outputs": [
    {
     "data": {
      "text/plain": [
       "0.0"
      ]
     },
     "execution_count": 24,
     "metadata": {},
     "output_type": "execute_result"
    }
   ],
   "source": [
    "modulus"
   ]
  },
  {
   "cell_type": "code",
   "execution_count": 27,
   "id": "a6edf53c",
   "metadata": {},
   "outputs": [
    {
     "name": "stdout",
     "output_type": "stream",
     "text": [
      "The given string is not a Palindrom.\n"
     ]
    }
   ],
   "source": [
    "'''  \n",
    "Palindrom:\n",
    "mom = mom\n",
    "\n",
    "'''\n",
    "\n",
    "text = input('Enter the String: ')\n",
    "text1 = text[::-1]\n",
    "\n",
    "def pal(text):\n",
    "    if text == text1:\n",
    "        print('The given string is Palindrom.')\n",
    "    else:\n",
    "        print('The given string is not a Palindrom.')\n",
    "\n",
    "\n",
    "pal(text)\n"
   ]
  },
  {
   "cell_type": "code",
   "execution_count": 2,
   "id": "3701879f",
   "metadata": {},
   "outputs": [
    {
     "name": "stdout",
     "output_type": "stream",
     "text": [
      "New Balance is 4000.0\n"
     ]
    }
   ],
   "source": [
    "balance = 10000\n",
    "withdraw = float(input(\"Enter amount to withdraw: \"))\n",
    "threshold = 2000\n",
    "\n",
    "def trans(withdraw):\n",
    "        if withdraw >= balance:\n",
    "           print('Insufficient Balance')\n",
    "        if withdraw <= balance:\n",
    "            new_balance = balance - withdraw\n",
    "            if new_balance >= 2000:\n",
    "                 print('New Balance is', new_balance)\n",
    "        else :\n",
    "                     print('Check Your Transaction, Once Again')\n",
    "\n",
    "trans(withdraw)\n"
   ]
  },
  {
   "cell_type": "code",
   "execution_count": null,
   "id": "ed1cff3f",
   "metadata": {},
   "outputs": [],
   "source": [
    "''' \n",
    "CGPA >= 8 : Bright\n",
    "CGPA between 6.9 to 7.9: Moderate Student\n",
    "CGPA < 6.8 : Week Student\n",
    "\n",
    "'''"
   ]
  },
  {
   "cell_type": "code",
   "execution_count": 5,
   "id": "a73383d1",
   "metadata": {},
   "outputs": [
    {
     "name": "stdout",
     "output_type": "stream",
     "text": [
      "Week Student\n"
     ]
    }
   ],
   "source": [
    "CGPA = float(input('Enter the CGPA Of Student: '))\n",
    "\n",
    "def G(CGPA):\n",
    "    if CGPA >= 8 :\n",
    "        print('Bright Student')\n",
    "    elif 6.9 <= CGPA <= 7.9:\n",
    "        print('Moderate Student')\n",
    "    else:\n",
    "        print('Week Student')\n",
    "G(CGPA)\n",
    "    \n",
    "        \n"
   ]
  },
  {
   "cell_type": "code",
   "execution_count": 7,
   "id": "d46d81fa",
   "metadata": {},
   "outputs": [
    {
     "name": "stdout",
     "output_type": "stream",
     "text": [
      "Moderate Student\n"
     ]
    }
   ],
   "source": [
    "CGPA = float(input('Enter the CGPA Of Student: '))\n",
    "\n",
    "def compute(CGPA):\n",
    "    if CGPA >= 8 :\n",
    "        print('Bright Student')\n",
    "    elif 6.9 <= CGPA <= 7.9:\n",
    "        print('Moderate Student')\n",
    "    else:\n",
    "        print('Week Student')\n",
    "\n",
    "compute(CGPA)"
   ]
  },
  {
   "cell_type": "code",
   "execution_count": null,
   "id": "5f2f4e0e",
   "metadata": {},
   "outputs": [
    {
     "name": "stdout",
     "output_type": "stream",
     "text": [
      "The given string is not a Palindrom.\n"
     ]
    }
   ],
   "source": [
    "'''  \n",
    "Palindrom:\n",
    "mom = mom\n",
    "\n",
    "'''\n",
    "\n",
    "text = input('Enter the String: ')\n",
    "\n",
    "\n",
    "def palindrom(text): # Defining Function\n",
    "    text1 = text[::-1]\n",
    "    if text == text1:\n",
    "        print('The given string is Palindrom.')\n",
    "    else:\n",
    "        print('The given string is not a Palindrom.')\n",
    "\n",
    "\n",
    "palindrom(text) # Calling a Function\n"
   ]
  },
  {
   "cell_type": "code",
   "execution_count": 9,
   "id": "e48722e0",
   "metadata": {},
   "outputs": [
    {
     "name": "stdout",
     "output_type": "stream",
     "text": [
      "The given string is not a Palindrom.\n"
     ]
    }
   ],
   "source": [
    "'''  \n",
    "Palindrom:\n",
    "mom = mom\n",
    "\n",
    "'''\n",
    "\n",
    "text = input('Enter the String: ')\n",
    "text1 = text[::-1]\n",
    "\n",
    "def palindrom(text): # Defining Function\n",
    "    global text1\n",
    "    text1 = text[::-1]\n",
    "    if text == text1:\n",
    "        print('The given string is Palindrom.')\n",
    "    else:\n",
    "        print('The given string is not a Palindrom.')\n",
    "\n",
    "\n",
    "palindrom(text) # Calling a Function\n"
   ]
  }
 ],
 "metadata": {
  "kernelspec": {
   "display_name": "base",
   "language": "python",
   "name": "python3"
  },
  "language_info": {
   "codemirror_mode": {
    "name": "ipython",
    "version": 3
   },
   "file_extension": ".py",
   "mimetype": "text/x-python",
   "name": "python",
   "nbconvert_exporter": "python",
   "pygments_lexer": "ipython3",
   "version": "3.12.7"
  }
 },
 "nbformat": 4,
 "nbformat_minor": 5
}
